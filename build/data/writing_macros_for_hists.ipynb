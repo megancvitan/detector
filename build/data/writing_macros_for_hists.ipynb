{
 "cells": [
  {
   "cell_type": "code",
   "execution_count": 5,
   "metadata": {},
   "outputs": [],
   "source": [
    "import pandas as pd\n",
    "import matplotlib.pyplot as plt\n",
    "import numpy as np\n",
    "import csv"
   ]
  },
  {
   "cell_type": "code",
   "execution_count": 110,
   "metadata": {},
   "outputs": [],
   "source": [
    "w = open('sweep-energy.dat','w')  \n",
    "\n",
    "energy_dat=[]\n",
    "intensity_dat=[]\n",
    "\n",
    "# Write a for loop to write into the .dat file\n",
    "energy=1e-3\n",
    "\n",
    "for i in range(10):\n",
    "    energy= energy*3 # This will give 10e-3, 10e-2 ... 10e1\n",
    "    w.write(str(\"%.4f\" % energy))\n",
    "    w.write(' ')\n",
    "    w.write(str(1))\n",
    "    w.write('\\n')\n",
    "        \n",
    "    energy_dat.append(energy)\n",
    "    intensity_dat.append(1)\n",
    "\n",
    "# Close the file\n",
    "w.close()"
   ]
  },
  {
   "cell_type": "code",
   "execution_count": 120,
   "metadata": {},
   "outputs": [
    {
     "data": {
      "image/png": "[encoded data removed]",
      "text/plain": [
       "<Figure size 432x288 with 1 Axes>"
      ]
     },
     "metadata": {
      "needs_background": "light"
     },
     "output_type": "display_data"
    }
   ],
   "source": [
    "# Plot data to see what is going on \n",
    "plt.clf()\n",
    "plt.scatter(energy_dat,intensity_dat)\n",
    "#plt.xlim(0,0.2)\n",
    "#plt.ylim(0,5)\n",
    "\n",
    "plt.yscale('log')\n",
    "plt.xscale('log')\n",
    "plt.title('Ba139 Source')\n",
    "plt.xlabel('Gamma Energy MeV')\n",
    "plt.ylabel('Intensity')\n",
    "plt.xlim(1e-3,10)\n",
    "\n",
    "plt.savefig('Ba139-source.jpg')\n",
    "#plt.show()"
   ]
  },
  {
   "cell_type": "code",
   "execution_count": 163,
   "metadata": {},
   "outputs": [],
   "source": [
    "# Writing the first part of the macro (doesn't change the filename)\n",
    "\n",
    "def write_macro_top(w):  \n",
    "    w.write('/run/initialize')\n",
    "    w.write('\\n')\n",
    "    w.write('/gps/particle gamma')\n",
    "    w.write('\\n')\n",
    "    w.write('/gps/position 0 0 0 cm')\n",
    "    w.write('\\n')\n",
    "    w.write('/gps/direction 0 0 1')\n",
    "    w.write('\\n')\n",
    "    w.write('/gps/pos/type Point')\n",
    "    w.write('\\n')\n",
    "    w.write('/gps/ang/type iso')\n",
    "    w.write('\\n')\n",
    "    w.write('\\n')\n",
    "\n",
    "# MACRO WRITING TO MAKE DIFFERENT FILES FOR EACH ENERGY \n",
    "\n",
    "def write_macro_end(w,name):\n",
    "\n",
    "    energy_dat=[]\n",
    "    intensity_dat=[]\n",
    "\n",
    "    # Write a for loop to write into the .dat file\n",
    "\n",
    "    energy=1e-3\n",
    "\n",
    "    for i in range(15):\n",
    "        energy= energy*2\n",
    "        w.write(str(\"/gps/energy %.4f MeV\" % energy))\n",
    "        w.write('\\n')\n",
    "        w.write(str(\"/analysis/setFileName %s-%i\" %(name,i)))      ## change filename here\n",
    "        w.write('\\n')\n",
    "        w.write(str(\"/run/beamOn 100000\"))\n",
    "        w.write('\\n')\n",
    "        w.write('\\n')\n",
    "        w.write('\\n')\n",
    "        \n",
    "        energy_dat.append(energy)\n",
    "        intensity_dat.append(1)   \n",
    "    \n",
    "# Write the whole macro:\n",
    "def write_macro(name):\n",
    "    \n",
    "    file = str('sweep-macro-%s.mac' %name)\n",
    "    w = open(file,'w')     \n",
    "    \n",
    "    write_macro_top(w)\n",
    "    write_macro_end(w,name)\n",
    "    \n",
    "    # Close the file\n",
    "    w.close()"
   ]
  },
  {
   "cell_type": "code",
   "execution_count": 164,
   "metadata": {},
   "outputs": [],
   "source": [
    "def energyspec():\n",
    "    \n",
    "    w=open(\"energy_spec.dat\",'w')\n",
    "    \n",
    "    energy=1e-3\n",
    "\n",
    "    for i in range(15):\n",
    "        energy = energy *2\n",
    "        w.write(str(\"%.4f\") %energy)\n",
    "        w.write('\\n')\n",
    "        \n",
    "    w.close()"
   ]
  },
  {
   "cell_type": "code",
   "execution_count": 166,
   "metadata": {},
   "outputs": [],
   "source": [
    "write_macro('Na-t1')\n",
    "write_macro('Na-t3')\n",
    "write_macro('Na-t5')\n",
    "write_macro('Na-t7')\n",
    "write_macro('Na-t9')\n",
    "write_macro('Na-t11')"
   ]
  },
  {
   "cell_type": "code",
   "execution_count": null,
   "metadata": {},
   "outputs": [],
   "source": []
  }
 ],
 "metadata": {
  "kernelspec": {
   "display_name": "Python 3",
   "language": "python",
   "name": "python3"
  },
  "language_info": {
   "codemirror_mode": {
    "name": "ipython",
    "version": 3
   },
   "file_extension": ".py",
   "mimetype": "text/x-python",
   "name": "python",
   "nbconvert_exporter": "python",
   "pygments_lexer": "ipython3",
   "version": "3.8.5"
  }
 },
 "nbformat": 4,
 "nbformat_minor": 5
}
