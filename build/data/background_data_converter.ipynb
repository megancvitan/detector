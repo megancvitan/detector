{
 "cells": [
  {
   "cell_type": "code",
   "execution_count": 2,
   "metadata": {},
   "outputs": [],
   "source": [
    "import pandas as pd\n",
    "import matplotlib.pyplot as plt\n",
    "import numpy as np\n",
    "import csv"
   ]
  },
  {
   "cell_type": "code",
   "execution_count": 6,
   "metadata": {},
   "outputs": [],
   "source": [
    "# Bring asc file to the code\n",
    "file = 'background_50115.asc'     \n",
    "\n",
    "# Define names of columns of interest\n",
    "names = ['energy','intensity']\n",
    "\n",
    "# Import only columns of interest from file\n",
    "data = pd.read_csv(file,usecols=[1,2],names=names, sep='\\t')\n",
    "\n",
    "# Print data and check that it matches with what is on livechart\n",
    "#print(data)\n",
    "\n",
    "# Plot energy vs intensity\n",
    "#plt.plot(data['energy'],data['intensity'])\n",
    "#plt.xlim(0,1000)"
   ]
  },
  {
   "cell_type": "code",
   "execution_count": 4,
   "metadata": {},
   "outputs": [],
   "source": [
    "# Write to the .dat file needed for Geant4\n",
    "w = open('Background-G4Hist.dat','w')     \n",
    "\n",
    "# Divide by 1000 to convert to MeV\n",
    "energy_kev = data['energy']/1000\n",
    "num_rows = len(data)\n",
    "\n",
    "# Make array for the energy and intensity data\n",
    "energy_dat = [0]\n",
    "intensity_dat = [0]\n",
    " \n",
    "for i in range(num_rows):\n",
    "    energy_dat.append(energy_kev[i])\n",
    "    intensity_dat.append(data['intensity'][i])\n",
    "    \n",
    "# Find length of energy_dat\n",
    "num_dat = len(energy_dat)\n",
    "\n",
    "# Write a for loop to write into the .dat file\n",
    "for i in range(num_dat):\n",
    "    w.write(str(energy_dat[i]))\n",
    "    w.write(' ')\n",
    "    w.write(str(intensity_dat[i]))\n",
    "    w.write('\\n')\n",
    "    \n",
    "w.close()"
   ]
  },
  {
   "cell_type": "code",
   "execution_count": 7,
   "metadata": {},
   "outputs": [],
   "source": [
    "# Plot data to see what is going on \n",
    "#plt.clf()\n",
    "#plt.plot(energy_dat,intensity_dat)\n",
    "##plt.xlim(0,0.2)\n",
    "##plt.ylim(0,5)\n",
    "\n",
    "#plt.show()"
   ]
  },
  {
   "cell_type": "code",
   "execution_count": 68,
   "metadata": {},
   "outputs": [],
   "source": []
  },
  {
   "cell_type": "code",
   "execution_count": null,
   "metadata": {},
   "outputs": [],
   "source": []
  }
 ],
 "metadata": {
  "kernelspec": {
   "display_name": "Python 3",
   "language": "python",
   "name": "python3"
  },
  "language_info": {
   "codemirror_mode": {
    "name": "ipython",
    "version": 3
   },
   "file_extension": ".py",
   "mimetype": "text/x-python",
   "name": "python",
   "nbconvert_exporter": "python",
   "pygments_lexer": "ipython3",
   "version": "3.8.5"
  }
 },
 "nbformat": 4,
 "nbformat_minor": 5
}
