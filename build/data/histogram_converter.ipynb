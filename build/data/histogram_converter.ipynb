{
 "cells": [
  {
   "cell_type": "code",
   "execution_count": 57,
   "metadata": {},
   "outputs": [],
   "source": [
    "import pandas as pd\n",
    "import matplotlib.pyplot as plt\n",
    "import numpy as np\n",
    "import csv"
   ]
  },
  {
   "cell_type": "code",
   "execution_count": 99,
   "metadata": {},
   "outputs": [],
   "source": [
    "# Import the file from https://www-nds.iaea.org/relnsd/vcharthtml/VChartHTML.html\n",
    "# Go to gamma table, download csv, upload file to this folder, rename file to the corresponding isotope \n",
    "\n",
    "# Bring file to the code\n",
    "# Change this for every raw data file for each isotope\n",
    "file = 'Cs140-Raw.csv'   \n",
    "\n",
    "# Make/open a file for writing the Geant 4 accepted format of histogram\n",
    "w = open('Cs140-G4Hist.dat','w')  \n",
    "\n",
    "# Define names of columns of interest\n",
    "names = ['energy','intensity']\n",
    "\n",
    "# Import only columns of interest from file\n",
    "data = pd.read_csv(file, header = 0, usecols=[0,2], names=names, nrows=28)\n",
    "\n",
    "# Print data and check that it matches with what is on livechart\n",
    "# print(data)\n",
    "\n",
    "# Divide by 1000 to convert from keV to MeV because this is what Geant4 takes as input\n",
    "energy_kev = data['energy']/1000\n",
    "\n",
    "filler_em = energy_kev-0.0001\n",
    "filler_ep = energy_kev+0.0001\n",
    "filler_i = data['energy']*0\n",
    "\n",
    "num_rows = len(data)\n",
    "\n",
    "# Make array for the energy data\n",
    "energy_dat = [0]\n",
    "intensity_dat = [0]\n",
    " \n",
    "for i in range(num_rows):\n",
    "    energy_dat.append(filler_em[i])\n",
    "    energy_dat.append(energy_kev[i])\n",
    "    energy_dat.append(filler_ep[i])\n",
    "    \n",
    "    intensity_dat.append(0)\n",
    "    intensity_dat.append(data['intensity'][i])\n",
    "    intensity_dat.append(0)\n",
    "    \n",
    "#print(energy_dat)\n",
    "#print(intensity_dat)\n",
    "\n",
    "# Find length of energy_dat\n",
    "num_dat = len(energy_dat)\n",
    "\n",
    "# Write a for loop to write into the .dat file\n",
    "for i in range(num_dat):\n",
    "    w.write(str(energy_dat[i]))\n",
    "    w.write(' ')\n",
    "    w.write(str(intensity_dat[i]))\n",
    "    w.write('\\n')\n",
    "\n",
    "# Close the file\n",
    "w.close()"
   ]
  },
  {
   "cell_type": "code",
   "execution_count": 98,
   "metadata": {},
   "outputs": [
    {
     "data": {
      "image/png": "[encoded data removed]",
      "text/plain": [
       "<Figure size 432x288 with 1 Axes>"
      ]
     },
     "metadata": {
      "needs_background": "light"
     },
     "output_type": "display_data"
    }
   ],
   "source": [
    "# Plot data to see what is going on \n",
    "#plt.clf()\n",
    "#plt.plot(energy_dat,intensity_dat)\n",
    "##plt.xlim(0,0.2)\n",
    "##plt.ylim(0,5)\n",
    "\n",
    "#plt.title('Ba139 Source')\n",
    "#plt.xlabel('Gamma Energy MeV')\n",
    "#plt.ylabel('Intensity')\n",
    "\n",
    "#plt.savefig('Ba139-source.jpg')\n",
    "#plt.show()"
   ]
  },
  {
   "cell_type": "code",
   "execution_count": null,
   "metadata": {},
   "outputs": [],
   "source": []
  },
  {
   "cell_type": "code",
   "execution_count": 68,
   "metadata": {},
   "outputs": [],
   "source": []
  },
  {
   "cell_type": "code",
   "execution_count": null,
   "metadata": {},
   "outputs": [],
   "source": []
  }
 ],
 "metadata": {
  "kernelspec": {
   "display_name": "Python 3",
   "language": "python",
   "name": "python3"
  },
  "language_info": {
   "codemirror_mode": {
    "name": "ipython",
    "version": 3
   },
   "file_extension": ".py",
   "mimetype": "text/x-python",
   "name": "python",
   "nbconvert_exporter": "python",
   "pygments_lexer": "ipython3",
   "version": "3.8.5"
  }
 },
 "nbformat": 4,
 "nbformat_minor": 5
}
